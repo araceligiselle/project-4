{
 "cells": [
  {
   "cell_type": "code",
   "execution_count": 1,
   "id": "2a1729e0",
   "metadata": {},
   "outputs": [],
   "source": [
    "# Import dependencies\n",
    "import pandas as pd\n",
    "import numpy as np\n",
    "import matplotlib.pyplot as plt\n",
    "import seaborn as sns"
   ]
  },
  {
   "cell_type": "code",
   "execution_count": 2,
   "id": "4acbc1df",
   "metadata": {},
   "outputs": [
    {
     "data": {
      "text/html": [
       "<div>\n",
       "<style scoped>\n",
       "    .dataframe tbody tr th:only-of-type {\n",
       "        vertical-align: middle;\n",
       "    }\n",
       "\n",
       "    .dataframe tbody tr th {\n",
       "        vertical-align: top;\n",
       "    }\n",
       "\n",
       "    .dataframe thead th {\n",
       "        text-align: right;\n",
       "    }\n",
       "</style>\n",
       "<table border=\"1\" class=\"dataframe\">\n",
       "  <thead>\n",
       "    <tr style=\"text-align: right;\">\n",
       "      <th></th>\n",
       "      <th>ref_area.label</th>\n",
       "      <th>indicator.label</th>\n",
       "      <th>source.label</th>\n",
       "      <th>sex.label</th>\n",
       "      <th>classif1.label</th>\n",
       "      <th>time</th>\n",
       "      <th>obs_value</th>\n",
       "      <th>obs_status.label</th>\n",
       "      <th>note_classif.label</th>\n",
       "      <th>note_indicator.label</th>\n",
       "      <th>note_source.label</th>\n",
       "    </tr>\n",
       "  </thead>\n",
       "  <tbody>\n",
       "    <tr>\n",
       "      <th>0</th>\n",
       "      <td>Afghanistan</td>\n",
       "      <td>SDG indicator 8.5.2 - Unemployment rate (%)</td>\n",
       "      <td>LFS - Labour Force Survey</td>\n",
       "      <td>Sex: Total</td>\n",
       "      <td>Age (Youth, adults): 15+</td>\n",
       "      <td>2021</td>\n",
       "      <td>5.58</td>\n",
       "      <td>NaN</td>\n",
       "      <td>NaN</td>\n",
       "      <td>Unemployment definition: Two criteria (not in ...</td>\n",
       "      <td>Repository: ILO-STATISTICS - Micro data proces...</td>\n",
       "    </tr>\n",
       "    <tr>\n",
       "      <th>1</th>\n",
       "      <td>Afghanistan</td>\n",
       "      <td>SDG indicator 8.5.2 - Unemployment rate (%)</td>\n",
       "      <td>LFS - Labour Force Survey</td>\n",
       "      <td>Sex: Total</td>\n",
       "      <td>Age (Youth, adults): 15-24</td>\n",
       "      <td>2021</td>\n",
       "      <td>8.71</td>\n",
       "      <td>NaN</td>\n",
       "      <td>NaN</td>\n",
       "      <td>Unemployment definition: Two criteria (not in ...</td>\n",
       "      <td>Repository: ILO-STATISTICS - Micro data proces...</td>\n",
       "    </tr>\n",
       "    <tr>\n",
       "      <th>2</th>\n",
       "      <td>Afghanistan</td>\n",
       "      <td>SDG indicator 8.5.2 - Unemployment rate (%)</td>\n",
       "      <td>LFS - Labour Force Survey</td>\n",
       "      <td>Sex: Total</td>\n",
       "      <td>Age (Youth, adults): 25+</td>\n",
       "      <td>2021</td>\n",
       "      <td>4.41</td>\n",
       "      <td>NaN</td>\n",
       "      <td>NaN</td>\n",
       "      <td>Unemployment definition: Two criteria (not in ...</td>\n",
       "      <td>Repository: ILO-STATISTICS - Micro data proces...</td>\n",
       "    </tr>\n",
       "    <tr>\n",
       "      <th>3</th>\n",
       "      <td>Afghanistan</td>\n",
       "      <td>SDG indicator 8.5.2 - Unemployment rate (%)</td>\n",
       "      <td>LFS - Labour Force Survey</td>\n",
       "      <td>Sex: Male</td>\n",
       "      <td>Age (Youth, adults): 15+</td>\n",
       "      <td>2021</td>\n",
       "      <td>5.60</td>\n",
       "      <td>NaN</td>\n",
       "      <td>NaN</td>\n",
       "      <td>Unemployment definition: Two criteria (not in ...</td>\n",
       "      <td>Repository: ILO-STATISTICS - Micro data proces...</td>\n",
       "    </tr>\n",
       "    <tr>\n",
       "      <th>4</th>\n",
       "      <td>Afghanistan</td>\n",
       "      <td>SDG indicator 8.5.2 - Unemployment rate (%)</td>\n",
       "      <td>LFS - Labour Force Survey</td>\n",
       "      <td>Sex: Male</td>\n",
       "      <td>Age (Youth, adults): 15-24</td>\n",
       "      <td>2021</td>\n",
       "      <td>8.45</td>\n",
       "      <td>NaN</td>\n",
       "      <td>NaN</td>\n",
       "      <td>Unemployment definition: Two criteria (not in ...</td>\n",
       "      <td>Repository: ILO-STATISTICS - Micro data proces...</td>\n",
       "    </tr>\n",
       "    <tr>\n",
       "      <th>...</th>\n",
       "      <td>...</td>\n",
       "      <td>...</td>\n",
       "      <td>...</td>\n",
       "      <td>...</td>\n",
       "      <td>...</td>\n",
       "      <td>...</td>\n",
       "      <td>...</td>\n",
       "      <td>...</td>\n",
       "      <td>...</td>\n",
       "      <td>...</td>\n",
       "      <td>...</td>\n",
       "    </tr>\n",
       "    <tr>\n",
       "      <th>11391</th>\n",
       "      <td>Zimbabwe</td>\n",
       "      <td>SDG indicator 8.5.2 - Unemployment rate (%)</td>\n",
       "      <td>LFS - Labour Force Survey</td>\n",
       "      <td>Sex: Male</td>\n",
       "      <td>Age (Youth, adults): 15-24</td>\n",
       "      <td>2014</td>\n",
       "      <td>5.93</td>\n",
       "      <td>NaN</td>\n",
       "      <td>NaN</td>\n",
       "      <td>NaN</td>\n",
       "      <td>Repository: ILO-STATISTICS - Micro data proces...</td>\n",
       "    </tr>\n",
       "    <tr>\n",
       "      <th>11392</th>\n",
       "      <td>Zimbabwe</td>\n",
       "      <td>SDG indicator 8.5.2 - Unemployment rate (%)</td>\n",
       "      <td>LFS - Labour Force Survey</td>\n",
       "      <td>Sex: Male</td>\n",
       "      <td>Age (Youth, adults): 25+</td>\n",
       "      <td>2014</td>\n",
       "      <td>3.65</td>\n",
       "      <td>NaN</td>\n",
       "      <td>NaN</td>\n",
       "      <td>NaN</td>\n",
       "      <td>Repository: ILO-STATISTICS - Micro data proces...</td>\n",
       "    </tr>\n",
       "    <tr>\n",
       "      <th>11393</th>\n",
       "      <td>Zimbabwe</td>\n",
       "      <td>SDG indicator 8.5.2 - Unemployment rate (%)</td>\n",
       "      <td>LFS - Labour Force Survey</td>\n",
       "      <td>Sex: Female</td>\n",
       "      <td>Age (Youth, adults): 15+</td>\n",
       "      <td>2014</td>\n",
       "      <td>5.18</td>\n",
       "      <td>NaN</td>\n",
       "      <td>NaN</td>\n",
       "      <td>NaN</td>\n",
       "      <td>Repository: ILO-STATISTICS - Micro data proces...</td>\n",
       "    </tr>\n",
       "    <tr>\n",
       "      <th>11394</th>\n",
       "      <td>Zimbabwe</td>\n",
       "      <td>SDG indicator 8.5.2 - Unemployment rate (%)</td>\n",
       "      <td>LFS - Labour Force Survey</td>\n",
       "      <td>Sex: Female</td>\n",
       "      <td>Age (Youth, adults): 15-24</td>\n",
       "      <td>2014</td>\n",
       "      <td>7.81</td>\n",
       "      <td>NaN</td>\n",
       "      <td>NaN</td>\n",
       "      <td>NaN</td>\n",
       "      <td>Repository: ILO-STATISTICS - Micro data proces...</td>\n",
       "    </tr>\n",
       "    <tr>\n",
       "      <th>11395</th>\n",
       "      <td>Zimbabwe</td>\n",
       "      <td>SDG indicator 8.5.2 - Unemployment rate (%)</td>\n",
       "      <td>LFS - Labour Force Survey</td>\n",
       "      <td>Sex: Female</td>\n",
       "      <td>Age (Youth, adults): 25+</td>\n",
       "      <td>2014</td>\n",
       "      <td>4.17</td>\n",
       "      <td>NaN</td>\n",
       "      <td>NaN</td>\n",
       "      <td>NaN</td>\n",
       "      <td>Repository: ILO-STATISTICS - Micro data proces...</td>\n",
       "    </tr>\n",
       "  </tbody>\n",
       "</table>\n",
       "<p>11396 rows × 11 columns</p>\n",
       "</div>"
      ],
      "text/plain": [
       "      ref_area.label                              indicator.label  \\\n",
       "0        Afghanistan  SDG indicator 8.5.2 - Unemployment rate (%)   \n",
       "1        Afghanistan  SDG indicator 8.5.2 - Unemployment rate (%)   \n",
       "2        Afghanistan  SDG indicator 8.5.2 - Unemployment rate (%)   \n",
       "3        Afghanistan  SDG indicator 8.5.2 - Unemployment rate (%)   \n",
       "4        Afghanistan  SDG indicator 8.5.2 - Unemployment rate (%)   \n",
       "...              ...                                          ...   \n",
       "11391       Zimbabwe  SDG indicator 8.5.2 - Unemployment rate (%)   \n",
       "11392       Zimbabwe  SDG indicator 8.5.2 - Unemployment rate (%)   \n",
       "11393       Zimbabwe  SDG indicator 8.5.2 - Unemployment rate (%)   \n",
       "11394       Zimbabwe  SDG indicator 8.5.2 - Unemployment rate (%)   \n",
       "11395       Zimbabwe  SDG indicator 8.5.2 - Unemployment rate (%)   \n",
       "\n",
       "                    source.label    sex.label              classif1.label  \\\n",
       "0      LFS - Labour Force Survey   Sex: Total    Age (Youth, adults): 15+   \n",
       "1      LFS - Labour Force Survey   Sex: Total  Age (Youth, adults): 15-24   \n",
       "2      LFS - Labour Force Survey   Sex: Total    Age (Youth, adults): 25+   \n",
       "3      LFS - Labour Force Survey    Sex: Male    Age (Youth, adults): 15+   \n",
       "4      LFS - Labour Force Survey    Sex: Male  Age (Youth, adults): 15-24   \n",
       "...                          ...          ...                         ...   \n",
       "11391  LFS - Labour Force Survey    Sex: Male  Age (Youth, adults): 15-24   \n",
       "11392  LFS - Labour Force Survey    Sex: Male    Age (Youth, adults): 25+   \n",
       "11393  LFS - Labour Force Survey  Sex: Female    Age (Youth, adults): 15+   \n",
       "11394  LFS - Labour Force Survey  Sex: Female  Age (Youth, adults): 15-24   \n",
       "11395  LFS - Labour Force Survey  Sex: Female    Age (Youth, adults): 25+   \n",
       "\n",
       "       time  obs_value obs_status.label note_classif.label  \\\n",
       "0      2021       5.58              NaN                NaN   \n",
       "1      2021       8.71              NaN                NaN   \n",
       "2      2021       4.41              NaN                NaN   \n",
       "3      2021       5.60              NaN                NaN   \n",
       "4      2021       8.45              NaN                NaN   \n",
       "...     ...        ...              ...                ...   \n",
       "11391  2014       5.93              NaN                NaN   \n",
       "11392  2014       3.65              NaN                NaN   \n",
       "11393  2014       5.18              NaN                NaN   \n",
       "11394  2014       7.81              NaN                NaN   \n",
       "11395  2014       4.17              NaN                NaN   \n",
       "\n",
       "                                    note_indicator.label  \\\n",
       "0      Unemployment definition: Two criteria (not in ...   \n",
       "1      Unemployment definition: Two criteria (not in ...   \n",
       "2      Unemployment definition: Two criteria (not in ...   \n",
       "3      Unemployment definition: Two criteria (not in ...   \n",
       "4      Unemployment definition: Two criteria (not in ...   \n",
       "...                                                  ...   \n",
       "11391                                                NaN   \n",
       "11392                                                NaN   \n",
       "11393                                                NaN   \n",
       "11394                                                NaN   \n",
       "11395                                                NaN   \n",
       "\n",
       "                                       note_source.label  \n",
       "0      Repository: ILO-STATISTICS - Micro data proces...  \n",
       "1      Repository: ILO-STATISTICS - Micro data proces...  \n",
       "2      Repository: ILO-STATISTICS - Micro data proces...  \n",
       "3      Repository: ILO-STATISTICS - Micro data proces...  \n",
       "4      Repository: ILO-STATISTICS - Micro data proces...  \n",
       "...                                                  ...  \n",
       "11391  Repository: ILO-STATISTICS - Micro data proces...  \n",
       "11392  Repository: ILO-STATISTICS - Micro data proces...  \n",
       "11393  Repository: ILO-STATISTICS - Micro data proces...  \n",
       "11394  Repository: ILO-STATISTICS - Micro data proces...  \n",
       "11395  Repository: ILO-STATISTICS - Micro data proces...  \n",
       "\n",
       "[11396 rows x 11 columns]"
      ]
     },
     "execution_count": 2,
     "metadata": {},
     "output_type": "execute_result"
    }
   ],
   "source": [
    "# Read csv \n",
    "csv_file_path = '../Resources/Unemployment rate (%).csv'\n",
    "unemployment_df = pd.read_csv(csv_file_path)\n",
    "unemployment_df"
   ]
  },
  {
   "cell_type": "code",
   "execution_count": 3,
   "id": "fe6a695a",
   "metadata": {},
   "outputs": [
    {
     "data": {
      "text/html": [
       "<div>\n",
       "<style scoped>\n",
       "    .dataframe tbody tr th:only-of-type {\n",
       "        vertical-align: middle;\n",
       "    }\n",
       "\n",
       "    .dataframe tbody tr th {\n",
       "        vertical-align: top;\n",
       "    }\n",
       "\n",
       "    .dataframe thead th {\n",
       "        text-align: right;\n",
       "    }\n",
       "</style>\n",
       "<table border=\"1\" class=\"dataframe\">\n",
       "  <thead>\n",
       "    <tr style=\"text-align: right;\">\n",
       "      <th></th>\n",
       "      <th>ref_area.label</th>\n",
       "      <th>sex.label</th>\n",
       "      <th>classif1.label</th>\n",
       "      <th>time</th>\n",
       "      <th>obs_value</th>\n",
       "    </tr>\n",
       "  </thead>\n",
       "  <tbody>\n",
       "    <tr>\n",
       "      <th>0</th>\n",
       "      <td>Afghanistan</td>\n",
       "      <td>Sex: Total</td>\n",
       "      <td>Age (Youth, adults): 15+</td>\n",
       "      <td>2021</td>\n",
       "      <td>5.58</td>\n",
       "    </tr>\n",
       "    <tr>\n",
       "      <th>1</th>\n",
       "      <td>Afghanistan</td>\n",
       "      <td>Sex: Total</td>\n",
       "      <td>Age (Youth, adults): 15-24</td>\n",
       "      <td>2021</td>\n",
       "      <td>8.71</td>\n",
       "    </tr>\n",
       "    <tr>\n",
       "      <th>2</th>\n",
       "      <td>Afghanistan</td>\n",
       "      <td>Sex: Total</td>\n",
       "      <td>Age (Youth, adults): 25+</td>\n",
       "      <td>2021</td>\n",
       "      <td>4.41</td>\n",
       "    </tr>\n",
       "    <tr>\n",
       "      <th>3</th>\n",
       "      <td>Afghanistan</td>\n",
       "      <td>Sex: Male</td>\n",
       "      <td>Age (Youth, adults): 15+</td>\n",
       "      <td>2021</td>\n",
       "      <td>5.60</td>\n",
       "    </tr>\n",
       "    <tr>\n",
       "      <th>4</th>\n",
       "      <td>Afghanistan</td>\n",
       "      <td>Sex: Male</td>\n",
       "      <td>Age (Youth, adults): 15-24</td>\n",
       "      <td>2021</td>\n",
       "      <td>8.45</td>\n",
       "    </tr>\n",
       "  </tbody>\n",
       "</table>\n",
       "</div>"
      ],
      "text/plain": [
       "  ref_area.label   sex.label              classif1.label  time  obs_value\n",
       "0    Afghanistan  Sex: Total    Age (Youth, adults): 15+  2021       5.58\n",
       "1    Afghanistan  Sex: Total  Age (Youth, adults): 15-24  2021       8.71\n",
       "2    Afghanistan  Sex: Total    Age (Youth, adults): 25+  2021       4.41\n",
       "3    Afghanistan   Sex: Male    Age (Youth, adults): 15+  2021       5.60\n",
       "4    Afghanistan   Sex: Male  Age (Youth, adults): 15-24  2021       8.45"
      ]
     },
     "execution_count": 3,
     "metadata": {},
     "output_type": "execute_result"
    }
   ],
   "source": [
    "# Drop unnecessary columns \n",
    "columns_to_drop = ['indicator.label','source.label', 'obs_status.label','note_classif.label','note_indicator.label','note_source.label' ]\n",
    "unemployment_df = unemployment_df.drop(columns=columns_to_drop)\n",
    "unemployment_df.head()"
   ]
  },
  {
   "cell_type": "code",
   "execution_count": 4,
   "id": "bdad9ffe",
   "metadata": {},
   "outputs": [
    {
     "data": {
      "text/html": [
       "<div>\n",
       "<style scoped>\n",
       "    .dataframe tbody tr th:only-of-type {\n",
       "        vertical-align: middle;\n",
       "    }\n",
       "\n",
       "    .dataframe tbody tr th {\n",
       "        vertical-align: top;\n",
       "    }\n",
       "\n",
       "    .dataframe thead th {\n",
       "        text-align: right;\n",
       "    }\n",
       "</style>\n",
       "<table border=\"1\" class=\"dataframe\">\n",
       "  <thead>\n",
       "    <tr style=\"text-align: right;\">\n",
       "      <th></th>\n",
       "      <th>country</th>\n",
       "      <th>gender</th>\n",
       "      <th>age_group</th>\n",
       "      <th>year</th>\n",
       "      <th>unemployment_rate</th>\n",
       "    </tr>\n",
       "  </thead>\n",
       "  <tbody>\n",
       "    <tr>\n",
       "      <th>0</th>\n",
       "      <td>Afghanistan</td>\n",
       "      <td>Sex: Total</td>\n",
       "      <td>Age (Youth, adults): 15+</td>\n",
       "      <td>2021</td>\n",
       "      <td>5.58</td>\n",
       "    </tr>\n",
       "    <tr>\n",
       "      <th>1</th>\n",
       "      <td>Afghanistan</td>\n",
       "      <td>Sex: Total</td>\n",
       "      <td>Age (Youth, adults): 15-24</td>\n",
       "      <td>2021</td>\n",
       "      <td>8.71</td>\n",
       "    </tr>\n",
       "    <tr>\n",
       "      <th>2</th>\n",
       "      <td>Afghanistan</td>\n",
       "      <td>Sex: Total</td>\n",
       "      <td>Age (Youth, adults): 25+</td>\n",
       "      <td>2021</td>\n",
       "      <td>4.41</td>\n",
       "    </tr>\n",
       "    <tr>\n",
       "      <th>3</th>\n",
       "      <td>Afghanistan</td>\n",
       "      <td>Sex: Male</td>\n",
       "      <td>Age (Youth, adults): 15+</td>\n",
       "      <td>2021</td>\n",
       "      <td>5.60</td>\n",
       "    </tr>\n",
       "    <tr>\n",
       "      <th>4</th>\n",
       "      <td>Afghanistan</td>\n",
       "      <td>Sex: Male</td>\n",
       "      <td>Age (Youth, adults): 15-24</td>\n",
       "      <td>2021</td>\n",
       "      <td>8.45</td>\n",
       "    </tr>\n",
       "  </tbody>\n",
       "</table>\n",
       "</div>"
      ],
      "text/plain": [
       "       country      gender                   age_group  year  \\\n",
       "0  Afghanistan  Sex: Total    Age (Youth, adults): 15+  2021   \n",
       "1  Afghanistan  Sex: Total  Age (Youth, adults): 15-24  2021   \n",
       "2  Afghanistan  Sex: Total    Age (Youth, adults): 25+  2021   \n",
       "3  Afghanistan   Sex: Male    Age (Youth, adults): 15+  2021   \n",
       "4  Afghanistan   Sex: Male  Age (Youth, adults): 15-24  2021   \n",
       "\n",
       "   unemployment_rate  \n",
       "0               5.58  \n",
       "1               8.71  \n",
       "2               4.41  \n",
       "3               5.60  \n",
       "4               8.45  "
      ]
     },
     "execution_count": 4,
     "metadata": {},
     "output_type": "execute_result"
    }
   ],
   "source": [
    "# Rename columns \n",
    "new_column_names = {'ref_area.label': 'country', 'sex.label': 'gender', 'classif1.label':'age_group', 'time':'year','obs_value':'unemployment_rate'}\n",
    "unemployment_df.rename(columns=new_column_names, inplace=True)\n",
    "unemployment_df.head()\n",
    "\n"
   ]
  },
  {
   "cell_type": "code",
   "execution_count": 5,
   "id": "1a3028c2",
   "metadata": {},
   "outputs": [
    {
     "data": {
      "text/html": [
       "<div>\n",
       "<style scoped>\n",
       "    .dataframe tbody tr th:only-of-type {\n",
       "        vertical-align: middle;\n",
       "    }\n",
       "\n",
       "    .dataframe tbody tr th {\n",
       "        vertical-align: top;\n",
       "    }\n",
       "\n",
       "    .dataframe thead th {\n",
       "        text-align: right;\n",
       "    }\n",
       "</style>\n",
       "<table border=\"1\" class=\"dataframe\">\n",
       "  <thead>\n",
       "    <tr style=\"text-align: right;\">\n",
       "      <th></th>\n",
       "      <th>country</th>\n",
       "      <th>gender</th>\n",
       "      <th>age_group</th>\n",
       "      <th>year</th>\n",
       "      <th>unemployment_rate</th>\n",
       "    </tr>\n",
       "  </thead>\n",
       "  <tbody>\n",
       "    <tr>\n",
       "      <th>3</th>\n",
       "      <td>Afghanistan</td>\n",
       "      <td>Sex: Male</td>\n",
       "      <td>Age (Youth, adults): 15+</td>\n",
       "      <td>2021</td>\n",
       "      <td>5.60</td>\n",
       "    </tr>\n",
       "    <tr>\n",
       "      <th>4</th>\n",
       "      <td>Afghanistan</td>\n",
       "      <td>Sex: Male</td>\n",
       "      <td>Age (Youth, adults): 15-24</td>\n",
       "      <td>2021</td>\n",
       "      <td>8.45</td>\n",
       "    </tr>\n",
       "    <tr>\n",
       "      <th>5</th>\n",
       "      <td>Afghanistan</td>\n",
       "      <td>Sex: Male</td>\n",
       "      <td>Age (Youth, adults): 25+</td>\n",
       "      <td>2021</td>\n",
       "      <td>4.60</td>\n",
       "    </tr>\n",
       "    <tr>\n",
       "      <th>6</th>\n",
       "      <td>Afghanistan</td>\n",
       "      <td>Sex: Female</td>\n",
       "      <td>Age (Youth, adults): 15+</td>\n",
       "      <td>2021</td>\n",
       "      <td>5.50</td>\n",
       "    </tr>\n",
       "    <tr>\n",
       "      <th>7</th>\n",
       "      <td>Afghanistan</td>\n",
       "      <td>Sex: Female</td>\n",
       "      <td>Age (Youth, adults): 15-24</td>\n",
       "      <td>2021</td>\n",
       "      <td>9.41</td>\n",
       "    </tr>\n",
       "    <tr>\n",
       "      <th>...</th>\n",
       "      <td>...</td>\n",
       "      <td>...</td>\n",
       "      <td>...</td>\n",
       "      <td>...</td>\n",
       "      <td>...</td>\n",
       "    </tr>\n",
       "    <tr>\n",
       "      <th>11391</th>\n",
       "      <td>Zimbabwe</td>\n",
       "      <td>Sex: Male</td>\n",
       "      <td>Age (Youth, adults): 15-24</td>\n",
       "      <td>2014</td>\n",
       "      <td>5.93</td>\n",
       "    </tr>\n",
       "    <tr>\n",
       "      <th>11392</th>\n",
       "      <td>Zimbabwe</td>\n",
       "      <td>Sex: Male</td>\n",
       "      <td>Age (Youth, adults): 25+</td>\n",
       "      <td>2014</td>\n",
       "      <td>3.65</td>\n",
       "    </tr>\n",
       "    <tr>\n",
       "      <th>11393</th>\n",
       "      <td>Zimbabwe</td>\n",
       "      <td>Sex: Female</td>\n",
       "      <td>Age (Youth, adults): 15+</td>\n",
       "      <td>2014</td>\n",
       "      <td>5.18</td>\n",
       "    </tr>\n",
       "    <tr>\n",
       "      <th>11394</th>\n",
       "      <td>Zimbabwe</td>\n",
       "      <td>Sex: Female</td>\n",
       "      <td>Age (Youth, adults): 15-24</td>\n",
       "      <td>2014</td>\n",
       "      <td>7.81</td>\n",
       "    </tr>\n",
       "    <tr>\n",
       "      <th>11395</th>\n",
       "      <td>Zimbabwe</td>\n",
       "      <td>Sex: Female</td>\n",
       "      <td>Age (Youth, adults): 25+</td>\n",
       "      <td>2014</td>\n",
       "      <td>4.17</td>\n",
       "    </tr>\n",
       "  </tbody>\n",
       "</table>\n",
       "<p>7565 rows × 5 columns</p>\n",
       "</div>"
      ],
      "text/plain": [
       "           country       gender                   age_group  year  \\\n",
       "3      Afghanistan    Sex: Male    Age (Youth, adults): 15+  2021   \n",
       "4      Afghanistan    Sex: Male  Age (Youth, adults): 15-24  2021   \n",
       "5      Afghanistan    Sex: Male    Age (Youth, adults): 25+  2021   \n",
       "6      Afghanistan  Sex: Female    Age (Youth, adults): 15+  2021   \n",
       "7      Afghanistan  Sex: Female  Age (Youth, adults): 15-24  2021   \n",
       "...            ...          ...                         ...   ...   \n",
       "11391     Zimbabwe    Sex: Male  Age (Youth, adults): 15-24  2014   \n",
       "11392     Zimbabwe    Sex: Male    Age (Youth, adults): 25+  2014   \n",
       "11393     Zimbabwe  Sex: Female    Age (Youth, adults): 15+  2014   \n",
       "11394     Zimbabwe  Sex: Female  Age (Youth, adults): 15-24  2014   \n",
       "11395     Zimbabwe  Sex: Female    Age (Youth, adults): 25+  2014   \n",
       "\n",
       "       unemployment_rate  \n",
       "3                   5.60  \n",
       "4                   8.45  \n",
       "5                   4.60  \n",
       "6                   5.50  \n",
       "7                   9.41  \n",
       "...                  ...  \n",
       "11391               5.93  \n",
       "11392               3.65  \n",
       "11393               5.18  \n",
       "11394               7.81  \n",
       "11395               4.17  \n",
       "\n",
       "[7565 rows x 5 columns]"
      ]
     },
     "execution_count": 5,
     "metadata": {},
     "output_type": "execute_result"
    }
   ],
   "source": [
    "# Drop 'Sex:Total' from gender column, this project only compareing the unemployment rate by gender \n",
    "unemployment_df = unemployment_df[unemployment_df['gender'] != 'Sex: Total']\n",
    "unemployment_df"
   ]
  },
  {
   "cell_type": "code",
   "execution_count": 6,
   "id": "39d9e1bb",
   "metadata": {},
   "outputs": [
    {
     "data": {
      "text/html": [
       "<div>\n",
       "<style scoped>\n",
       "    .dataframe tbody tr th:only-of-type {\n",
       "        vertical-align: middle;\n",
       "    }\n",
       "\n",
       "    .dataframe tbody tr th {\n",
       "        vertical-align: top;\n",
       "    }\n",
       "\n",
       "    .dataframe thead th {\n",
       "        text-align: right;\n",
       "    }\n",
       "</style>\n",
       "<table border=\"1\" class=\"dataframe\">\n",
       "  <thead>\n",
       "    <tr style=\"text-align: right;\">\n",
       "      <th></th>\n",
       "      <th>country</th>\n",
       "      <th>gender</th>\n",
       "      <th>age_group</th>\n",
       "      <th>year</th>\n",
       "      <th>unemployment_rate</th>\n",
       "    </tr>\n",
       "  </thead>\n",
       "  <tbody>\n",
       "    <tr>\n",
       "      <th>3</th>\n",
       "      <td>Afghanistan</td>\n",
       "      <td>Male</td>\n",
       "      <td>Age (Youth, adults): 15+</td>\n",
       "      <td>2021</td>\n",
       "      <td>5.60</td>\n",
       "    </tr>\n",
       "    <tr>\n",
       "      <th>4</th>\n",
       "      <td>Afghanistan</td>\n",
       "      <td>Male</td>\n",
       "      <td>Age (Youth, adults): 15-24</td>\n",
       "      <td>2021</td>\n",
       "      <td>8.45</td>\n",
       "    </tr>\n",
       "    <tr>\n",
       "      <th>5</th>\n",
       "      <td>Afghanistan</td>\n",
       "      <td>Male</td>\n",
       "      <td>Age (Youth, adults): 25+</td>\n",
       "      <td>2021</td>\n",
       "      <td>4.60</td>\n",
       "    </tr>\n",
       "    <tr>\n",
       "      <th>6</th>\n",
       "      <td>Afghanistan</td>\n",
       "      <td>Female</td>\n",
       "      <td>Age (Youth, adults): 15+</td>\n",
       "      <td>2021</td>\n",
       "      <td>5.50</td>\n",
       "    </tr>\n",
       "    <tr>\n",
       "      <th>7</th>\n",
       "      <td>Afghanistan</td>\n",
       "      <td>Female</td>\n",
       "      <td>Age (Youth, adults): 15-24</td>\n",
       "      <td>2021</td>\n",
       "      <td>9.41</td>\n",
       "    </tr>\n",
       "  </tbody>\n",
       "</table>\n",
       "</div>"
      ],
      "text/plain": [
       "       country  gender                   age_group  year  unemployment_rate\n",
       "3  Afghanistan    Male    Age (Youth, adults): 15+  2021               5.60\n",
       "4  Afghanistan    Male  Age (Youth, adults): 15-24  2021               8.45\n",
       "5  Afghanistan    Male    Age (Youth, adults): 25+  2021               4.60\n",
       "6  Afghanistan  Female    Age (Youth, adults): 15+  2021               5.50\n",
       "7  Afghanistan  Female  Age (Youth, adults): 15-24  2021               9.41"
      ]
     },
     "execution_count": 6,
     "metadata": {},
     "output_type": "execute_result"
    }
   ],
   "source": [
    "# Simplify 'gender' column : keep the format as 'male', 'female'\n",
    "unemployment_df['gender'] = unemployment_df['gender'].str.replace('Sex: ', '')\n",
    "unemployment_df.head()"
   ]
  },
  {
   "cell_type": "code",
   "execution_count": 7,
   "id": "305f6d44",
   "metadata": {},
   "outputs": [
    {
     "data": {
      "text/html": [
       "<div>\n",
       "<style scoped>\n",
       "    .dataframe tbody tr th:only-of-type {\n",
       "        vertical-align: middle;\n",
       "    }\n",
       "\n",
       "    .dataframe tbody tr th {\n",
       "        vertical-align: top;\n",
       "    }\n",
       "\n",
       "    .dataframe thead th {\n",
       "        text-align: right;\n",
       "    }\n",
       "</style>\n",
       "<table border=\"1\" class=\"dataframe\">\n",
       "  <thead>\n",
       "    <tr style=\"text-align: right;\">\n",
       "      <th></th>\n",
       "      <th>country</th>\n",
       "      <th>gender</th>\n",
       "      <th>age_group</th>\n",
       "      <th>year</th>\n",
       "      <th>unemployment_rate</th>\n",
       "    </tr>\n",
       "  </thead>\n",
       "  <tbody>\n",
       "    <tr>\n",
       "      <th>3</th>\n",
       "      <td>Afghanistan</td>\n",
       "      <td>Male</td>\n",
       "      <td>Age (Youth, adults): 15+</td>\n",
       "      <td>2021</td>\n",
       "      <td>5.60</td>\n",
       "    </tr>\n",
       "    <tr>\n",
       "      <th>4</th>\n",
       "      <td>Afghanistan</td>\n",
       "      <td>Male</td>\n",
       "      <td>Age (Youth, adults): 15-24</td>\n",
       "      <td>2021</td>\n",
       "      <td>8.45</td>\n",
       "    </tr>\n",
       "    <tr>\n",
       "      <th>5</th>\n",
       "      <td>Afghanistan</td>\n",
       "      <td>Male</td>\n",
       "      <td>Age (Youth, adults): 25+</td>\n",
       "      <td>2021</td>\n",
       "      <td>4.60</td>\n",
       "    </tr>\n",
       "    <tr>\n",
       "      <th>6</th>\n",
       "      <td>Afghanistan</td>\n",
       "      <td>Female</td>\n",
       "      <td>Age (Youth, adults): 15+</td>\n",
       "      <td>2021</td>\n",
       "      <td>5.50</td>\n",
       "    </tr>\n",
       "    <tr>\n",
       "      <th>7</th>\n",
       "      <td>Afghanistan</td>\n",
       "      <td>Female</td>\n",
       "      <td>Age (Youth, adults): 15-24</td>\n",
       "      <td>2021</td>\n",
       "      <td>9.41</td>\n",
       "    </tr>\n",
       "    <tr>\n",
       "      <th>...</th>\n",
       "      <td>...</td>\n",
       "      <td>...</td>\n",
       "      <td>...</td>\n",
       "      <td>...</td>\n",
       "      <td>...</td>\n",
       "    </tr>\n",
       "    <tr>\n",
       "      <th>11391</th>\n",
       "      <td>Zimbabwe</td>\n",
       "      <td>Male</td>\n",
       "      <td>Age (Youth, adults): 15-24</td>\n",
       "      <td>2014</td>\n",
       "      <td>5.93</td>\n",
       "    </tr>\n",
       "    <tr>\n",
       "      <th>11392</th>\n",
       "      <td>Zimbabwe</td>\n",
       "      <td>Male</td>\n",
       "      <td>Age (Youth, adults): 25+</td>\n",
       "      <td>2014</td>\n",
       "      <td>3.65</td>\n",
       "    </tr>\n",
       "    <tr>\n",
       "      <th>11393</th>\n",
       "      <td>Zimbabwe</td>\n",
       "      <td>Female</td>\n",
       "      <td>Age (Youth, adults): 15+</td>\n",
       "      <td>2014</td>\n",
       "      <td>5.18</td>\n",
       "    </tr>\n",
       "    <tr>\n",
       "      <th>11394</th>\n",
       "      <td>Zimbabwe</td>\n",
       "      <td>Female</td>\n",
       "      <td>Age (Youth, adults): 15-24</td>\n",
       "      <td>2014</td>\n",
       "      <td>7.81</td>\n",
       "    </tr>\n",
       "    <tr>\n",
       "      <th>11395</th>\n",
       "      <td>Zimbabwe</td>\n",
       "      <td>Female</td>\n",
       "      <td>Age (Youth, adults): 25+</td>\n",
       "      <td>2014</td>\n",
       "      <td>4.17</td>\n",
       "    </tr>\n",
       "  </tbody>\n",
       "</table>\n",
       "<p>7547 rows × 5 columns</p>\n",
       "</div>"
      ],
      "text/plain": [
       "           country  gender                   age_group  year  \\\n",
       "3      Afghanistan    Male    Age (Youth, adults): 15+  2021   \n",
       "4      Afghanistan    Male  Age (Youth, adults): 15-24  2021   \n",
       "5      Afghanistan    Male    Age (Youth, adults): 25+  2021   \n",
       "6      Afghanistan  Female    Age (Youth, adults): 15+  2021   \n",
       "7      Afghanistan  Female  Age (Youth, adults): 15-24  2021   \n",
       "...            ...     ...                         ...   ...   \n",
       "11391     Zimbabwe    Male  Age (Youth, adults): 15-24  2014   \n",
       "11392     Zimbabwe    Male    Age (Youth, adults): 25+  2014   \n",
       "11393     Zimbabwe  Female    Age (Youth, adults): 15+  2014   \n",
       "11394     Zimbabwe  Female  Age (Youth, adults): 15-24  2014   \n",
       "11395     Zimbabwe  Female    Age (Youth, adults): 25+  2014   \n",
       "\n",
       "       unemployment_rate  \n",
       "3                   5.60  \n",
       "4                   8.45  \n",
       "5                   4.60  \n",
       "6                   5.50  \n",
       "7                   9.41  \n",
       "...                  ...  \n",
       "11391               5.93  \n",
       "11392               3.65  \n",
       "11393               5.18  \n",
       "11394               7.81  \n",
       "11395               4.17  \n",
       "\n",
       "[7547 rows x 5 columns]"
      ]
     },
     "execution_count": 7,
     "metadata": {},
     "output_type": "execute_result"
    }
   ],
   "source": [
    "# Drop 'Sex:Other' from gender column\n",
    "unemployment_df = unemployment_df[unemployment_df['gender'] != 'Other']\n",
    "unemployment_df"
   ]
  },
  {
   "cell_type": "code",
   "execution_count": 8,
   "id": "5867f62c",
   "metadata": {},
   "outputs": [
    {
     "name": "stderr",
     "output_type": "stream",
     "text": [
      "d:\\1\\envs\\PythonData\\lib\\site-packages\\ipykernel_launcher.py:2: SettingWithCopyWarning: \n",
      "A value is trying to be set on a copy of a slice from a DataFrame.\n",
      "Try using .loc[row_indexer,col_indexer] = value instead\n",
      "\n",
      "See the caveats in the documentation: https://pandas.pydata.org/pandas-docs/stable/user_guide/indexing.html#returning-a-view-versus-a-copy\n",
      "  \n"
     ]
    },
    {
     "data": {
      "text/html": [
       "<div>\n",
       "<style scoped>\n",
       "    .dataframe tbody tr th:only-of-type {\n",
       "        vertical-align: middle;\n",
       "    }\n",
       "\n",
       "    .dataframe tbody tr th {\n",
       "        vertical-align: top;\n",
       "    }\n",
       "\n",
       "    .dataframe thead th {\n",
       "        text-align: right;\n",
       "    }\n",
       "</style>\n",
       "<table border=\"1\" class=\"dataframe\">\n",
       "  <thead>\n",
       "    <tr style=\"text-align: right;\">\n",
       "      <th></th>\n",
       "      <th>country</th>\n",
       "      <th>gender</th>\n",
       "      <th>age_group</th>\n",
       "      <th>year</th>\n",
       "      <th>unemployment_rate</th>\n",
       "    </tr>\n",
       "  </thead>\n",
       "  <tbody>\n",
       "    <tr>\n",
       "      <th>3</th>\n",
       "      <td>Afghanistan</td>\n",
       "      <td>Male</td>\n",
       "      <td>15+</td>\n",
       "      <td>2021</td>\n",
       "      <td>5.60</td>\n",
       "    </tr>\n",
       "    <tr>\n",
       "      <th>4</th>\n",
       "      <td>Afghanistan</td>\n",
       "      <td>Male</td>\n",
       "      <td>15-24</td>\n",
       "      <td>2021</td>\n",
       "      <td>8.45</td>\n",
       "    </tr>\n",
       "    <tr>\n",
       "      <th>5</th>\n",
       "      <td>Afghanistan</td>\n",
       "      <td>Male</td>\n",
       "      <td>25+</td>\n",
       "      <td>2021</td>\n",
       "      <td>4.60</td>\n",
       "    </tr>\n",
       "    <tr>\n",
       "      <th>6</th>\n",
       "      <td>Afghanistan</td>\n",
       "      <td>Female</td>\n",
       "      <td>15+</td>\n",
       "      <td>2021</td>\n",
       "      <td>5.50</td>\n",
       "    </tr>\n",
       "    <tr>\n",
       "      <th>7</th>\n",
       "      <td>Afghanistan</td>\n",
       "      <td>Female</td>\n",
       "      <td>15-24</td>\n",
       "      <td>2021</td>\n",
       "      <td>9.41</td>\n",
       "    </tr>\n",
       "  </tbody>\n",
       "</table>\n",
       "</div>"
      ],
      "text/plain": [
       "       country  gender age_group  year  unemployment_rate\n",
       "3  Afghanistan    Male       15+  2021               5.60\n",
       "4  Afghanistan    Male     15-24  2021               8.45\n",
       "5  Afghanistan    Male       25+  2021               4.60\n",
       "6  Afghanistan  Female       15+  2021               5.50\n",
       "7  Afghanistan  Female     15-24  2021               9.41"
      ]
     },
     "execution_count": 8,
     "metadata": {},
     "output_type": "execute_result"
    }
   ],
   "source": [
    "# Simplify 'age_group' column : extract the number \n",
    "unemployment_df['age_group'] = unemployment_df['age_group'].str.extract(r'(\\d{2}\\+|\\d{2}-\\d{2})')\n",
    "unemployment_df.head()"
   ]
  },
  {
   "cell_type": "code",
   "execution_count": 9,
   "id": "f7626713",
   "metadata": {},
   "outputs": [],
   "source": [
    "# Remove non-country data \n",
    "non_countries = ['World', 'World: Low income', 'World: Lower-middle income', 'World: Upper-middle income', 'World: High income', 'Africa', 'Arab States', 'Asia and the Pacific', 'Europe and Central Asia', 'Americas', \n",
    "                 'Netherlands Antilles', 'Hong Kong, China', 'Macau, China', 'Curaçao', 'Cayman Islands', 'Falkland Islands (Malvinas)', 'Cook Islands', 'Niue', 'Taiwan, China', 'Occupied Palestinian Territory']\n",
    "unemployment_df = unemployment_df[~unemployment_df['country'].isin(non_countries)]\n",
    "\n"
   ]
  },
  {
   "cell_type": "code",
   "execution_count": 10,
   "id": "f3e2ee81",
   "metadata": {},
   "outputs": [
    {
     "data": {
      "text/plain": [
       "184"
      ]
     },
     "execution_count": 10,
     "metadata": {},
     "output_type": "execute_result"
    }
   ],
   "source": [
    "# Get the unique country \n",
    "unique_country = unemployment_df['country'].unique()\n",
    "unique_country\n",
    "len(unique_country)"
   ]
  },
  {
   "cell_type": "code",
   "execution_count": 11,
   "id": "4dfdd773",
   "metadata": {},
   "outputs": [
    {
     "data": {
      "image/png": "[encoded data removed]",
      "text/plain": [
       "<Figure size 1000x800 with 1 Axes>"
      ]
     },
     "metadata": {},
     "output_type": "display_data"
    }
   ],
   "source": [
    "plt.figure(figsize=(10, 8))\n",
    "ax = sns.barplot(x='age_group', y='unemployment_rate', hue='gender', data=unemployment_df, ci=None)\n",
    "\n",
    "# Adding the text annotations on each bar\n",
    "for p in ax.patches:\n",
    "    ax.annotate(f'{p.get_height():.2f}%', \n",
    "                (p.get_x() + p.get_width() / 2., p.get_height()), \n",
    "                ha='center', va='center', \n",
    "                xytext=(0, 9), \n",
    "                textcoords='offset points')\n",
    "    \n",
    "plt.title('WorldWide 2013-2023 Unemployment Rate by Gender and Age Group')\n",
    "plt.xlabel('Age Group')\n",
    "plt.ylabel('Unemployment Rate (%)')\n",
    "plt.xticks(rotation=45)\n",
    "plt.legend(title='Gender')\n",
    "plt.tight_layout()"
   ]
  },
  {
   "cell_type": "code",
   "execution_count": 13,
   "id": "52489a5d",
   "metadata": {},
   "outputs": [],
   "source": [
    "unemployment_df.to_csv('unemployment_cleaned.csv', index=False)\n"
   ]
  },
  {
   "cell_type": "markdown",
   "id": "e0975902",
   "metadata": {},
   "source": [
    "# Clustering Similar Countries"
   ]
  },
  {
   "cell_type": "code",
   "execution_count": 12,
   "id": "6c77012a",
   "metadata": {},
   "outputs": [
    {
     "name": "stderr",
     "output_type": "stream",
     "text": [
      "d:\\1\\envs\\PythonData\\lib\\site-packages\\pandas\\util\\_decorators.py:311: SettingWithCopyWarning: \n",
      "A value is trying to be set on a copy of a slice from a DataFrame\n",
      "\n",
      "See the caveats in the documentation: https://pandas.pydata.org/pandas-docs/stable/user_guide/indexing.html#returning-a-view-versus-a-copy\n",
      "  return func(*args, **kwargs)\n"
     ]
    },
    {
     "data": {
      "image/png": "[encoded data removed]",
      "text/plain": [
       "<Figure size 640x480 with 1 Axes>"
      ]
     },
     "metadata": {},
     "output_type": "display_data"
    }
   ],
   "source": [
    "from sklearn.cluster import KMeans\n",
    "import matplotlib.pyplot as plt\n",
    "\n",
    "# filter the DF for only female data \n",
    "female_unemployment_df = unemployment_df[unemployment_df['gender'] == 'Female']\n",
    "\n",
    "# Removing NaN values for safety\n",
    "female_unemployment_df.dropna(subset=['unemployment_rate'], inplace=True)\n",
    "\n",
    "# Determining the range of k values to test\n",
    "k_range = range(1, 11)  # Testing for 1 to 10 clusters\n",
    "\n",
    "# Calculating sum of squared distances for each k\n",
    "sum_of_squared_distances = []\n",
    "for k in k_range:\n",
    "    kmeans = KMeans(n_clusters=k)\n",
    "    kmeans.fit(female_unemployment_df[['unemployment_rate']])\n",
    "    sum_of_squared_distances.append(kmeans.inertia_)\n",
    "\n",
    "# Plotting the Elbow Method graph\n",
    "plt.plot(k_range, sum_of_squared_distances, 'bx-')\n",
    "plt.xlabel('k (Number of clusters)')\n",
    "plt.ylabel('Sum of Squared Distances')\n",
    "plt.title('Elbow Method For Optimal k')\n",
    "plt.show()\n"
   ]
  },
  {
   "cell_type": "code",
   "execution_count": 13,
   "id": "21468a5f",
   "metadata": {},
   "outputs": [],
   "source": [
    "from sklearn.cluster import KMeans\n",
    "import seaborn as sns"
   ]
  },
  {
   "cell_type": "code",
   "execution_count": 14,
   "id": "fb0426dd",
   "metadata": {},
   "outputs": [],
   "source": [
    "# Preparing data for clustering\n",
    "\n",
    "# Handle missing values\n",
    "cluster_data = female_unemployment_df.groupby(['country'])['unemployment_rate'].mean().reset_index()\n",
    "cluster_data.dropna(inplace=True)  # Remove rows with NaN values\n",
    "# Ensure there are no infinite values\n",
    "cluster_data = cluster_data[np.isfinite(cluster_data['unemployment_rate'])]"
   ]
  },
  {
   "cell_type": "code",
   "execution_count": 15,
   "id": "1b51e609",
   "metadata": {},
   "outputs": [],
   "source": [
    "# K-means clustering\n",
    "kmeans = KMeans(n_clusters=4, n_init=10, random_state=42)  \n",
    "cluster_data['cluster'] = kmeans.fit_predict(cluster_data[['unemployment_rate']])"
   ]
  },
  {
   "cell_type": "code",
   "execution_count": 16,
   "id": "4a9e9ba7",
   "metadata": {},
   "outputs": [
    {
     "data": {
      "application/vnd.plotly.v1+json": {
       "config": {
        "plotlyServerURL": "https://plot.ly"
       },
       "data": [
        {
         "hovertemplate": "<b>%{hovertext}</b><br><br>country=%{x}<br>unemployment_rate=%{y}<br>cluster=%{marker.color}<extra></extra>",
         "hovertext": [
          "Afghanistan",
          "Albania",
          "Algeria",
          "Angola",
          "Argentina",
          "Armenia",
          "Australia",
          "Austria",
          "Azerbaijan",
          "Bahamas",
          "Bangladesh",
          "Barbados",
          "Belarus",
          "Belgium",
          "Belize",
          "Benin",
          "Bermuda",
          "Bhutan",
          "Bolivia",
          "Bosnia and Herzegovina",
          "Botswana",
          "Brazil",
          "Brunei Darussalam",
          "Bulgaria",
          "Burkina Faso",
          "Burundi",
          "Cabo Verde",
          "Cambodia",
          "Cameroon",
          "Canada",
          "Chad",
          "Chile",
          "Colombia",
          "Comoros",
          "Congo, Democratic Republic of the",
          "Costa Rica",
          "Croatia",
          "Cuba",
          "Cyprus",
          "Czechia",
          "Côte d'Ivoire",
          "Denmark",
          "Djibouti",
          "Dominican Republic",
          "Ecuador",
          "Egypt",
          "El Salvador",
          "Estonia",
          "Eswatini",
          "Ethiopia",
          "Faeroe Islands",
          "Fiji",
          "Finland",
          "France",
          "French Guiana",
          "Gambia",
          "Georgia",
          "Germany",
          "Ghana",
          "Greece",
          "Grenada",
          "Guadeloupe",
          "Guatemala",
          "Guinea",
          "Guinea-Bissau",
          "Guyana",
          "Honduras",
          "Hungary",
          "Iceland",
          "India",
          "Indonesia",
          "Iran, Islamic Republic of",
          "Iraq",
          "Ireland",
          "Isle of Man",
          "Israel",
          "Italy",
          "Jamaica",
          "Japan",
          "Jordan",
          "Kazakhstan",
          "Kenya",
          "Kiribati",
          "Korea, Republic of",
          "Kosovo",
          "Kuwait",
          "Kyrgyzstan",
          "Lao People's Democratic Republic",
          "Latvia",
          "Lebanon",
          "Lesotho",
          "Liberia",
          "Lithuania",
          "Luxembourg",
          "Madagascar",
          "Malawi",
          "Malaysia",
          "Maldives",
          "Mali",
          "Malta",
          "Marshall Islands",
          "Martinique",
          "Mauritania",
          "Mauritius",
          "Mexico",
          "Micronesia, Federated States of",
          "Moldova, Republic of",
          "Monaco",
          "Mongolia",
          "Montenegro",
          "Montserrat",
          "Morocco",
          "Mozambique",
          "Myanmar",
          "Namibia",
          "Nauru",
          "Nepal",
          "Netherlands",
          "New Caledonia",
          "New Zealand",
          "Nicaragua",
          "Niger",
          "Nigeria",
          "North Macedonia",
          "Norway",
          "Oman",
          "Pakistan",
          "Palau",
          "Panama",
          "Paraguay",
          "Peru",
          "Philippines",
          "Poland",
          "Portugal",
          "Puerto Rico",
          "Qatar",
          "Romania",
          "Russian Federation",
          "Rwanda",
          "Réunion",
          "Saint Lucia",
          "Samoa",
          "San Marino",
          "Saudi Arabia",
          "Senegal",
          "Serbia",
          "Seychelles",
          "Sierra Leone",
          "Singapore",
          "Slovakia",
          "Slovenia",
          "Solomon Islands",
          "Somalia",
          "South Africa",
          "Spain",
          "Sri Lanka",
          "Suriname",
          "Sweden",
          "Switzerland",
          "Tajikistan",
          "Tanzania, United Republic of",
          "Thailand",
          "Timor-Leste",
          "Togo",
          "Tonga",
          "Trinidad and Tobago",
          "Tunisia",
          "Tuvalu",
          "Türkiye",
          "Uganda",
          "Ukraine",
          "United Arab Emirates",
          "United Kingdom",
          "United States",
          "Uruguay",
          "Uzbekistan",
          "Vanuatu",
          "Venezuela, Bolivarian Republic of",
          "Viet Nam",
          "Wallis and Futuna Islands",
          "Yemen",
          "Zambia",
          "Zimbabwe"
         ],
         "legendgroup": "",
         "marker": {
          "color": [
           2,
           3,
           0,
           3,
           3,
           3,
           1,
           1,
           2,
           3,
           2,
           3,
           1,
           2,
           3,
           1,
           2,
           2,
           1,
           0,
           0,
           3,
           3,
           2,
           2,
           1,
           0,
           1,
           1,
           2,
           1,
           2,
           3,
           2,
           1,
           3,
           3,
           1,
           3,
           1,
           1,
           1,
           0,
           2,
           1,
           0,
           1,
           2,
           0,
           1,
           1,
           2,
           2,
           2,
           0,
           1,
           3,
           1,
           1,
           0,
           3,
           0,
           1,
           1,
           1,
           3,
           2,
           2,
           1,
           2,
           1,
           0,
           0,
           2,
           1,
           1,
           3,
           3,
           1,
           0,
           1,
           1,
           2,
           1,
           0,
           2,
           1,
           1,
           2,
           3,
           0,
           1,
           2,
           2,
           1,
           1,
           1,
           1,
           1,
           1,
           2,
           3,
           3,
           3,
           1,
           3,
           1,
           3,
           2,
           3,
           2,
           3,
           1,
           1,
           0,
           3,
           2,
           1,
           3,
           1,
           1,
           1,
           2,
           0,
           1,
           2,
           1,
           1,
           2,
           2,
           1,
           1,
           2,
           3,
           2,
           1,
           2,
           2,
           2,
           0,
           0,
           3,
           3,
           0,
           1,
           3,
           1,
           1,
           1,
           2,
           2,
           1,
           0,
           0,
           0,
           2,
           3,
           2,
           1,
           1,
           1,
           1,
           1,
           1,
           1,
           1,
           0,
           0,
           3,
           1,
           2,
           2,
           1,
           1,
           3,
           2,
           1,
           2,
           1,
           2,
           0,
           1,
           2
          ],
          "coloraxis": "coloraxis",
          "size": 10,
          "symbol": "circle"
         },
         "mode": "markers",
         "name": "",
         "orientation": "v",
         "showlegend": false,
         "type": "scatter",
         "x": [
          "Afghanistan",
          "Albania",
          "Algeria",
          "Angola",
          "Argentina",
          "Armenia",
          "Australia",
          "Austria",
          "Azerbaijan",
          "Bahamas",
          "Bangladesh",
          "Barbados",
          "Belarus",
          "Belgium",
          "Belize",
          "Benin",
          "Bermuda",
          "Bhutan",
          "Bolivia",
          "Bosnia and Herzegovina",
          "Botswana",
          "Brazil",
          "Brunei Darussalam",
          "Bulgaria",
          "Burkina Faso",
          "Burundi",
          "Cabo Verde",
          "Cambodia",
          "Cameroon",
          "Canada",
          "Chad",
          "Chile",
          "Colombia",
          "Comoros",
          "Congo, Democratic Republic of the",
          "Costa Rica",
          "Croatia",
          "Cuba",
          "Cyprus",
          "Czechia",
          "Côte d'Ivoire",
          "Denmark",
          "Djibouti",
          "Dominican Republic",
          "Ecuador",
          "Egypt",
          "El Salvador",
          "Estonia",
          "Eswatini",
          "Ethiopia",
          "Faeroe Islands",
          "Fiji",
          "Finland",
          "France",
          "French Guiana",
          "Gambia",
          "Georgia",
          "Germany",
          "Ghana",
          "Greece",
          "Grenada",
          "Guadeloupe",
          "Guatemala",
          "Guinea",
          "Guinea-Bissau",
          "Guyana",
          "Honduras",
          "Hungary",
          "Iceland",
          "India",
          "Indonesia",
          "Iran, Islamic Republic of",
          "Iraq",
          "Ireland",
          "Isle of Man",
          "Israel",
          "Italy",
          "Jamaica",
          "Japan",
          "Jordan",
          "Kazakhstan",
          "Kenya",
          "Kiribati",
          "Korea, Republic of",
          "Kosovo",
          "Kuwait",
          "Kyrgyzstan",
          "Lao People's Democratic Republic",
          "Latvia",
          "Lebanon",
          "Lesotho",
          "Liberia",
          "Lithuania",
          "Luxembourg",
          "Madagascar",
          "Malawi",
          "Malaysia",
          "Maldives",
          "Mali",
          "Malta",
          "Marshall Islands",
          "Martinique",
          "Mauritania",
          "Mauritius",
          "Mexico",
          "Micronesia, Federated States of",
          "Moldova, Republic of",
          "Monaco",
          "Mongolia",
          "Montenegro",
          "Montserrat",
          "Morocco",
          "Mozambique",
          "Myanmar",
          "Namibia",
          "Nauru",
          "Nepal",
          "Netherlands",
          "New Caledonia",
          "New Zealand",
          "Nicaragua",
          "Niger",
          "Nigeria",
          "North Macedonia",
          "Norway",
          "Oman",
          "Pakistan",
          "Palau",
          "Panama",
          "Paraguay",
          "Peru",
          "Philippines",
          "Poland",
          "Portugal",
          "Puerto Rico",
          "Qatar",
          "Romania",
          "Russian Federation",
          "Rwanda",
          "Réunion",
          "Saint Lucia",
          "Samoa",
          "San Marino",
          "Saudi Arabia",
          "Senegal",
          "Serbia",
          "Seychelles",
          "Sierra Leone",
          "Singapore",
          "Slovakia",
          "Slovenia",
          "Solomon Islands",
          "Somalia",
          "South Africa",
          "Spain",
          "Sri Lanka",
          "Suriname",
          "Sweden",
          "Switzerland",
          "Tajikistan",
          "Tanzania, United Republic of",
          "Thailand",
          "Timor-Leste",
          "Togo",
          "Tonga",
          "Trinidad and Tobago",
          "Tunisia",
          "Tuvalu",
          "Türkiye",
          "Uganda",
          "Ukraine",
          "United Arab Emirates",
          "United Kingdom",
          "United States",
          "Uruguay",
          "Uzbekistan",
          "Vanuatu",
          "Venezuela, Bolivarian Republic of",
          "Viet Nam",
          "Wallis and Futuna Islands",
          "Yemen",
          "Zambia",
          "Zimbabwe"
         ],
         "xaxis": "x",
         "y": [
          12.255833333333333,
          18.812380952380952,
          24.661333333333335,
          16.17111111111111,
          14.467083333333333,
          20.435185185185187,
          6.938,
          6.558666666666666,
          8.64090909090909,
          15.25,
          8.708888888888888,
          15.27857142857143,
          5.062380952380953,
          9.876,
          15.930952380952382,
          2.44,
          12.2225,
          8.6275,
          5.507333333333333,
          31.66033333333333,
          30.313333333333333,
          16.91,
          14.158888888888889,
          9.614,
          7.765000000000001,
          1.2133333333333332,
          26.026666666666667,
          0.6065217391304347,
          4.7,
          7.804,
          0.77,
          11.809333333333335,
          16.881666666666668,
          10.508333333333333,
          1.1166666666666667,
          19.026,
          18.041,
          2.475,
          14.830333333333334,
          6.512666666666666,
          4.039166666666667,
          7.401666666666667,
          45.69,
          13.323666666666666,
          6.965,
          27.50111111111111,
          5.992000000000001,
          8.288333333333334,
          31.353333333333335,
          4.5633333333333335,
          4.85,
          11.578333333333333,
          10.417333333333334,
          12.802999999999999,
          25.75,
          5.378333333333333,
          19.57375,
          4.347333333333334,
          5.317777777777778,
          31.742,
          19.317777777777778,
          26.854999999999997,
          4.352592592592592,
          5.806666666666666,
          3.0700000000000003,
          19.939999999999998,
          11.354333333333333,
          8.408666666666667,
          4.857333333333333,
          10.97,
          6.762666666666666,
          24.740666666666666,
          32.96,
          9.433333333333334,
          1.7599999999999998,
          5.677333333333333,
          19.423,
          14.994814814814815,
          3.2463333333333333,
          32.54142857142857,
          5.1883333333333335,
          7.235555555555554,
          12.30888888888889,
          5.0840000000000005,
          41.35666666666667,
          12.915714285714285,
          5.180370370370371,
          3.3633333333333333,
          9.902333333333333,
          16.02,
          24.403333333333336,
          3.5,
          9.274333333333335,
          9.080666666666668,
          2.0466666666666664,
          3.8544444444444443,
          5.854444444444444,
          6.321111111111112,
          6.505714285714286,
          5.559333333333333,
          11.293333333333335,
          20.19,
          16.843333333333334,
          15.221333333333332,
          5.317666666666667,
          17.593333333333334,
          1.6446666666666667,
          14.796666666666667,
          9.342666666666666,
          21.837407407407408,
          11.543333333333335,
          15.080666666666666,
          4.3966666666666665,
          1.7033333333333334,
          27.495833333333334,
          15.265,
          11.6725,
          6.455333333333333,
          20.89,
          7.104666666666668,
          5.76125,
          3.755555555555555,
          10.02,
          28.573666666666664,
          5.144,
          12.668333333333335,
          5.441904761904762,
          1.716,
          12.545333333333334,
          9.999333333333334,
          5.4719999999999995,
          4.818148148148148,
          9.077666666666666,
          15.423333333333334,
          9.7,
          1.201,
          9.879,
          8.503333333333334,
          13.16904761904762,
          29.49,
          26.341052631578947,
          16.211666666666666,
          14.646363636363638,
          27.528333333333336,
          5.2540000000000004,
          21.94,
          6.256190476190476,
          3.358333333333333,
          6.874090909090909,
          13.757333333333332,
          9.704333333333333,
          0.9166666666666666,
          27.236666666666665,
          32.88733333333333,
          26.409,
          12.925416666666665,
          17.0325,
          11.154,
          5.848666666666667,
          5.5,
          3.842222222222222,
          2.037666666666667,
          5.937777777777778,
          2.796666666666667,
          5.068333333333333,
          5.841666666666666,
          26.850526315789477,
          23.77888888888889,
          16.841,
          3.2353333333333336,
          11.355599999999999,
          9.286315789473685,
          7.017619047619048,
          6.553333333333333,
          15.357333333333333,
          8.075555555555557,
          7.158333333333334,
          8.99,
          2.962,
          9.94,
          27.786666666666665,
          7.332,
          8.532222222222224
         ],
         "yaxis": "y"
        }
       ],
       "layout": {
        "coloraxis": {
         "colorbar": {
          "title": {
           "text": "cluster"
          }
         },
         "colorscale": [
          [
           0,
           "#0d0887"
          ],
          [
           0.1111111111111111,
           "#46039f"
          ],
          [
           0.2222222222222222,
           "#7201a8"
          ],
          [
           0.3333333333333333,
           "#9c179e"
          ],
          [
           0.4444444444444444,
           "#bd3786"
          ],
          [
           0.5555555555555556,
           "#d8576b"
          ],
          [
           0.6666666666666666,
           "#ed7953"
          ],
          [
           0.7777777777777778,
           "#fb9f3a"
          ],
          [
           0.8888888888888888,
           "#fdca26"
          ],
          [
           1,
           "#f0f921"
          ]
         ]
        },
        "height": 600,
        "legend": {
         "tracegroupgap": 0,
         "x": 0.99,
         "xanchor": "left",
         "y": 0.99,
         "yanchor": "bottom"
        },
        "showlegend": true,
        "template": {
         "data": {
          "bar": [
           {
            "error_x": {
             "color": "#2a3f5f"
            },
            "error_y": {
             "color": "#2a3f5f"
            },
            "marker": {
             "line": {
              "color": "#E5ECF6",
              "width": 0.5
             },
             "pattern": {
              "fillmode": "overlay",
              "size": 10,
              "solidity": 0.2
             }
            },
            "type": "bar"
           }
          ],
          "barpolar": [
           {
            "marker": {
             "line": {
              "color": "#E5ECF6",
              "width": 0.5
             },
             "pattern": {
              "fillmode": "overlay",
              "size": 10,
              "solidity": 0.2
             }
            },
            "type": "barpolar"
           }
          ],
          "carpet": [
           {
            "aaxis": {
             "endlinecolor": "#2a3f5f",
             "gridcolor": "white",
             "linecolor": "white",
             "minorgridcolor": "white",
             "startlinecolor": "#2a3f5f"
            },
            "baxis": {
             "endlinecolor": "#2a3f5f",
             "gridcolor": "white",
             "linecolor": "white",
             "minorgridcolor": "white",
             "startlinecolor": "#2a3f5f"
            },
            "type": "carpet"
           }
          ],
          "choropleth": [
           {
            "colorbar": {
             "outlinewidth": 0,
             "ticks": ""
            },
            "type": "choropleth"
           }
          ],
          "contour": [
           {
            "colorbar": {
             "outlinewidth": 0,
             "ticks": ""
            },
            "colorscale": [
             [
              0,
              "#0d0887"
             ],
             [
              0.1111111111111111,
              "#46039f"
             ],
             [
              0.2222222222222222,
              "#7201a8"
             ],
             [
              0.3333333333333333,
              "#9c179e"
             ],
             [
              0.4444444444444444,
              "#bd3786"
             ],
             [
              0.5555555555555556,
              "#d8576b"
             ],
             [
              0.6666666666666666,
              "#ed7953"
             ],
             [
              0.7777777777777778,
              "#fb9f3a"
             ],
             [
              0.8888888888888888,
              "#fdca26"
             ],
             [
              1,
              "#f0f921"
             ]
            ],
            "type": "contour"
           }
          ],
          "contourcarpet": [
           {
            "colorbar": {
             "outlinewidth": 0,
             "ticks": ""
            },
            "type": "contourcarpet"
           }
          ],
          "heatmap": [
           {
            "colorbar": {
             "outlinewidth": 0,
             "ticks": ""
            },
            "colorscale": [
             [
              0,
              "#0d0887"
             ],
             [
              0.1111111111111111,
              "#46039f"
             ],
             [
              0.2222222222222222,
              "#7201a8"
             ],
             [
              0.3333333333333333,
              "#9c179e"
             ],
             [
              0.4444444444444444,
              "#bd3786"
             ],
             [
              0.5555555555555556,
              "#d8576b"
             ],
             [
              0.6666666666666666,
              "#ed7953"
             ],
             [
              0.7777777777777778,
              "#fb9f3a"
             ],
             [
              0.8888888888888888,
              "#fdca26"
             ],
             [
              1,
              "#f0f921"
             ]
            ],
            "type": "heatmap"
           }
          ],
          "heatmapgl": [
           {
            "colorbar": {
             "outlinewidth": 0,
             "ticks": ""
            },
            "colorscale": [
             [
              0,
              "#0d0887"
             ],
             [
              0.1111111111111111,
              "#46039f"
             ],
             [
              0.2222222222222222,
              "#7201a8"
             ],
             [
              0.3333333333333333,
              "#9c179e"
             ],
             [
              0.4444444444444444,
              "#bd3786"
             ],
             [
              0.5555555555555556,
              "#d8576b"
             ],
             [
              0.6666666666666666,
              "#ed7953"
             ],
             [
              0.7777777777777778,
              "#fb9f3a"
             ],
             [
              0.8888888888888888,
              "#fdca26"
             ],
             [
              1,
              "#f0f921"
             ]
            ],
            "type": "heatmapgl"
           }
          ],
          "histogram": [
           {
            "marker": {
             "pattern": {
              "fillmode": "overlay",
              "size": 10,
              "solidity": 0.2
             }
            },
            "type": "histogram"
           }
          ],
          "histogram2d": [
           {
            "colorbar": {
             "outlinewidth": 0,
             "ticks": ""
            },
            "colorscale": [
             [
              0,
              "#0d0887"
             ],
             [
              0.1111111111111111,
              "#46039f"
             ],
             [
              0.2222222222222222,
              "#7201a8"
             ],
             [
              0.3333333333333333,
              "#9c179e"
             ],
             [
              0.4444444444444444,
              "#bd3786"
             ],
             [
              0.5555555555555556,
              "#d8576b"
             ],
             [
              0.6666666666666666,
              "#ed7953"
             ],
             [
              0.7777777777777778,
              "#fb9f3a"
             ],
             [
              0.8888888888888888,
              "#fdca26"
             ],
             [
              1,
              "#f0f921"
             ]
            ],
            "type": "histogram2d"
           }
          ],
          "histogram2dcontour": [
           {
            "colorbar": {
             "outlinewidth": 0,
             "ticks": ""
            },
            "colorscale": [
             [
              0,
              "#0d0887"
             ],
             [
              0.1111111111111111,
              "#46039f"
             ],
             [
              0.2222222222222222,
              "#7201a8"
             ],
             [
              0.3333333333333333,
              "#9c179e"
             ],
             [
              0.4444444444444444,
              "#bd3786"
             ],
             [
              0.5555555555555556,
              "#d8576b"
             ],
             [
              0.6666666666666666,
              "#ed7953"
             ],
             [
              0.7777777777777778,
              "#fb9f3a"
             ],
             [
              0.8888888888888888,
              "#fdca26"
             ],
             [
              1,
              "#f0f921"
             ]
            ],
            "type": "histogram2dcontour"
           }
          ],
          "mesh3d": [
           {
            "colorbar": {
             "outlinewidth": 0,
             "ticks": ""
            },
            "type": "mesh3d"
           }
          ],
          "parcoords": [
           {
            "line": {
             "colorbar": {
              "outlinewidth": 0,
              "ticks": ""
             }
            },
            "type": "parcoords"
           }
          ],
          "pie": [
           {
            "automargin": true,
            "type": "pie"
           }
          ],
          "scatter": [
           {
            "fillpattern": {
             "fillmode": "overlay",
             "size": 10,
             "solidity": 0.2
            },
            "type": "scatter"
           }
          ],
          "scatter3d": [
           {
            "line": {
             "colorbar": {
              "outlinewidth": 0,
              "ticks": ""
             }
            },
            "marker": {
             "colorbar": {
              "outlinewidth": 0,
              "ticks": ""
             }
            },
            "type": "scatter3d"
           }
          ],
          "scattercarpet": [
           {
            "marker": {
             "colorbar": {
              "outlinewidth": 0,
              "ticks": ""
             }
            },
            "type": "scattercarpet"
           }
          ],
          "scattergeo": [
           {
            "marker": {
             "colorbar": {
              "outlinewidth": 0,
              "ticks": ""
             }
            },
            "type": "scattergeo"
           }
          ],
          "scattergl": [
           {
            "marker": {
             "colorbar": {
              "outlinewidth": 0,
              "ticks": ""
             }
            },
            "type": "scattergl"
           }
          ],
          "scattermapbox": [
           {
            "marker": {
             "colorbar": {
              "outlinewidth": 0,
              "ticks": ""
             }
            },
            "type": "scattermapbox"
           }
          ],
          "scatterpolar": [
           {
            "marker": {
             "colorbar": {
              "outlinewidth": 0,
              "ticks": ""
             }
            },
            "type": "scatterpolar"
           }
          ],
          "scatterpolargl": [
           {
            "marker": {
             "colorbar": {
              "outlinewidth": 0,
              "ticks": ""
             }
            },
            "type": "scatterpolargl"
           }
          ],
          "scatterternary": [
           {
            "marker": {
             "colorbar": {
              "outlinewidth": 0,
              "ticks": ""
             }
            },
            "type": "scatterternary"
           }
          ],
          "surface": [
           {
            "colorbar": {
             "outlinewidth": 0,
             "ticks": ""
            },
            "colorscale": [
             [
              0,
              "#0d0887"
             ],
             [
              0.1111111111111111,
              "#46039f"
             ],
             [
              0.2222222222222222,
              "#7201a8"
             ],
             [
              0.3333333333333333,
              "#9c179e"
             ],
             [
              0.4444444444444444,
              "#bd3786"
             ],
             [
              0.5555555555555556,
              "#d8576b"
             ],
             [
              0.6666666666666666,
              "#ed7953"
             ],
             [
              0.7777777777777778,
              "#fb9f3a"
             ],
             [
              0.8888888888888888,
              "#fdca26"
             ],
             [
              1,
              "#f0f921"
             ]
            ],
            "type": "surface"
           }
          ],
          "table": [
           {
            "cells": {
             "fill": {
              "color": "#EBF0F8"
             },
             "line": {
              "color": "white"
             }
            },
            "header": {
             "fill": {
              "color": "#C8D4E3"
             },
             "line": {
              "color": "white"
             }
            },
            "type": "table"
           }
          ]
         },
         "layout": {
          "annotationdefaults": {
           "arrowcolor": "#2a3f5f",
           "arrowhead": 0,
           "arrowwidth": 1
          },
          "autotypenumbers": "strict",
          "coloraxis": {
           "colorbar": {
            "outlinewidth": 0,
            "ticks": ""
           }
          },
          "colorscale": {
           "diverging": [
            [
             0,
             "#8e0152"
            ],
            [
             0.1,
             "#c51b7d"
            ],
            [
             0.2,
             "#de77ae"
            ],
            [
             0.3,
             "#f1b6da"
            ],
            [
             0.4,
             "#fde0ef"
            ],
            [
             0.5,
             "#f7f7f7"
            ],
            [
             0.6,
             "#e6f5d0"
            ],
            [
             0.7,
             "#b8e186"
            ],
            [
             0.8,
             "#7fbc41"
            ],
            [
             0.9,
             "#4d9221"
            ],
            [
             1,
             "#276419"
            ]
           ],
           "sequential": [
            [
             0,
             "#0d0887"
            ],
            [
             0.1111111111111111,
             "#46039f"
            ],
            [
             0.2222222222222222,
             "#7201a8"
            ],
            [
             0.3333333333333333,
             "#9c179e"
            ],
            [
             0.4444444444444444,
             "#bd3786"
            ],
            [
             0.5555555555555556,
             "#d8576b"
            ],
            [
             0.6666666666666666,
             "#ed7953"
            ],
            [
             0.7777777777777778,
             "#fb9f3a"
            ],
            [
             0.8888888888888888,
             "#fdca26"
            ],
            [
             1,
             "#f0f921"
            ]
           ],
           "sequentialminus": [
            [
             0,
             "#0d0887"
            ],
            [
             0.1111111111111111,
             "#46039f"
            ],
            [
             0.2222222222222222,
             "#7201a8"
            ],
            [
             0.3333333333333333,
             "#9c179e"
            ],
            [
             0.4444444444444444,
             "#bd3786"
            ],
            [
             0.5555555555555556,
             "#d8576b"
            ],
            [
             0.6666666666666666,
             "#ed7953"
            ],
            [
             0.7777777777777778,
             "#fb9f3a"
            ],
            [
             0.8888888888888888,
             "#fdca26"
            ],
            [
             1,
             "#f0f921"
            ]
           ]
          },
          "colorway": [
           "#636efa",
           "#EF553B",
           "#00cc96",
           "#ab63fa",
           "#FFA15A",
           "#19d3f3",
           "#FF6692",
           "#B6E880",
           "#FF97FF",
           "#FECB52"
          ],
          "font": {
           "color": "#2a3f5f"
          },
          "geo": {
           "bgcolor": "white",
           "lakecolor": "white",
           "landcolor": "#E5ECF6",
           "showlakes": true,
           "showland": true,
           "subunitcolor": "white"
          },
          "hoverlabel": {
           "align": "left"
          },
          "hovermode": "closest",
          "mapbox": {
           "style": "light"
          },
          "paper_bgcolor": "white",
          "plot_bgcolor": "#E5ECF6",
          "polar": {
           "angularaxis": {
            "gridcolor": "white",
            "linecolor": "white",
            "ticks": ""
           },
           "bgcolor": "#E5ECF6",
           "radialaxis": {
            "gridcolor": "white",
            "linecolor": "white",
            "ticks": ""
           }
          },
          "scene": {
           "xaxis": {
            "backgroundcolor": "#E5ECF6",
            "gridcolor": "white",
            "gridwidth": 2,
            "linecolor": "white",
            "showbackground": true,
            "ticks": "",
            "zerolinecolor": "white"
           },
           "yaxis": {
            "backgroundcolor": "#E5ECF6",
            "gridcolor": "white",
            "gridwidth": 2,
            "linecolor": "white",
            "showbackground": true,
            "ticks": "",
            "zerolinecolor": "white"
           },
           "zaxis": {
            "backgroundcolor": "#E5ECF6",
            "gridcolor": "white",
            "gridwidth": 2,
            "linecolor": "white",
            "showbackground": true,
            "ticks": "",
            "zerolinecolor": "white"
           }
          },
          "shapedefaults": {
           "line": {
            "color": "#2a3f5f"
           }
          },
          "ternary": {
           "aaxis": {
            "gridcolor": "white",
            "linecolor": "white",
            "ticks": ""
           },
           "baxis": {
            "gridcolor": "white",
            "linecolor": "white",
            "ticks": ""
           },
           "bgcolor": "#E5ECF6",
           "caxis": {
            "gridcolor": "white",
            "linecolor": "white",
            "ticks": ""
           }
          },
          "title": {
           "x": 0.05
          },
          "xaxis": {
           "automargin": true,
           "gridcolor": "white",
           "linecolor": "white",
           "ticks": "",
           "title": {
            "standoff": 15
           },
           "zerolinecolor": "white",
           "zerolinewidth": 2
          },
          "yaxis": {
           "automargin": true,
           "gridcolor": "white",
           "linecolor": "white",
           "ticks": "",
           "title": {
            "standoff": 15
           },
           "zerolinecolor": "white",
           "zerolinewidth": 2
          }
         }
        },
        "title": {
         "text": "Clusters of Countries by Female Unemployment Rate"
        },
        "width": 1000,
        "xaxis": {
         "anchor": "y",
         "domain": [
          0,
          1
         ],
         "tickangle": -45,
         "title": {
          "text": "country"
         }
        },
        "yaxis": {
         "anchor": "x",
         "domain": [
          0,
          1
         ],
         "title": {
          "text": "unemployment_rate"
         }
        }
       }
      }
     },
     "metadata": {},
     "output_type": "display_data"
    }
   ],
   "source": [
    "import plotly.express as px\n",
    "\n",
    "fig = px.scatter(cluster_data, x='country', y='unemployment_rate',\n",
    "                 color='cluster', hover_name='country',\n",
    "                 title=\"Clusters of Countries by Female Unemployment Rate\")\n",
    "\n",
    "fig.update_layout(width=1000, height=600)\n",
    "fig.update_traces(marker=dict(size=10))\n",
    "fig.update_layout(xaxis_tickangle=-45)\n",
    "fig.update_layout(showlegend=True)\n",
    "\n",
    "fig.update_layout(legend=dict(\n",
    "    yanchor=\"bottom\",\n",
    "    y=0.99,\n",
    "    xanchor=\"left\",\n",
    "    x=0.99\n",
    "))\n",
    "\n",
    "# Show the updated plot\n",
    "fig.show()\n",
    "\n",
    "\n"
   ]
  },
  {
   "cell_type": "code",
   "execution_count": 17,
   "id": "d00b3ae5",
   "metadata": {},
   "outputs": [
    {
     "data": {
      "text/plain": [
       "cluster\n",
       "0    [Algeria, Bosnia and Herzegovina, Botswana, Ca...\n",
       "1    [Australia, Austria, Belarus, Benin, Bolivia, ...\n",
       "2    [Afghanistan, Azerbaijan, Bangladesh, Belgium,...\n",
       "3    [Albania, Angola, Argentina, Armenia, Bahamas,...\n",
       "Name: country, dtype: object"
      ]
     },
     "execution_count": 17,
     "metadata": {},
     "output_type": "execute_result"
    }
   ],
   "source": [
    "cluster_groups = cluster_data.groupby('cluster')['country'].apply(list)\n",
    "cluster_groups"
   ]
  },
  {
   "cell_type": "code",
   "execution_count": 18,
   "id": "5937b681",
   "metadata": {},
   "outputs": [
    {
     "data": {
      "text/plain": [
       "26"
      ]
     },
     "execution_count": 18,
     "metadata": {},
     "output_type": "execute_result"
    }
   ],
   "source": [
    "len(cluster_groups[0])"
   ]
  },
  {
   "cell_type": "code",
   "execution_count": 19,
   "id": "ea1c8c82",
   "metadata": {},
   "outputs": [
    {
     "data": {
      "text/plain": [
       "74"
      ]
     },
     "execution_count": 19,
     "metadata": {},
     "output_type": "execute_result"
    }
   ],
   "source": [
    "len(cluster_groups[1])"
   ]
  },
  {
   "cell_type": "code",
   "execution_count": 20,
   "id": "519f65b2",
   "metadata": {},
   "outputs": [
    {
     "data": {
      "text/plain": [
       "48"
      ]
     },
     "execution_count": 20,
     "metadata": {},
     "output_type": "execute_result"
    }
   ],
   "source": [
    "len(cluster_groups[2])"
   ]
  },
  {
   "cell_type": "code",
   "execution_count": 21,
   "id": "9e54013a",
   "metadata": {},
   "outputs": [
    {
     "data": {
      "text/plain": [
       "35"
      ]
     },
     "execution_count": 21,
     "metadata": {},
     "output_type": "execute_result"
    }
   ],
   "source": [
    "len(cluster_groups[3])"
   ]
  },
  {
   "cell_type": "code",
   "execution_count": 22,
   "id": "39f2cbec",
   "metadata": {},
   "outputs": [
    {
     "name": "stdout",
     "output_type": "stream",
     "text": [
      "Cluster_0 includes: ['Algeria', 'Bosnia and Herzegovina', 'Botswana', 'Cabo Verde', 'Djibouti', 'Egypt', 'Eswatini', 'French Guiana', 'Greece', 'Guadeloupe', 'Iran, Islamic Republic of', 'Iraq', 'Jordan', 'Kosovo', 'Lesotho', 'Namibia', 'North Macedonia', 'Réunion', 'Saint Lucia', 'Saudi Arabia', 'Somalia', 'South Africa', 'Spain', 'Tunisia', 'Tuvalu', 'Yemen']\n",
      "Cluster_1 includes: ['Australia', 'Austria', 'Belarus', 'Benin', 'Bolivia', 'Burundi', 'Cambodia', 'Cameroon', 'Chad', 'Congo, Democratic Republic of the', 'Cuba', 'Czechia', \"Côte d'Ivoire\", 'Denmark', 'Ecuador', 'El Salvador', 'Ethiopia', 'Faeroe Islands', 'Gambia', 'Germany', 'Ghana', 'Guatemala', 'Guinea', 'Guinea-Bissau', 'Iceland', 'Indonesia', 'Isle of Man', 'Israel', 'Japan', 'Kazakhstan', 'Kenya', 'Korea, Republic of', 'Kyrgyzstan', \"Lao People's Democratic Republic\", 'Liberia', 'Madagascar', 'Malawi', 'Malaysia', 'Maldives', 'Mali', 'Malta', 'Mexico', 'Moldova, Republic of', 'Mozambique', 'Myanmar', 'Netherlands', 'New Zealand', 'Nicaragua', 'Niger', 'Norway', 'Pakistan', 'Palau', 'Peru', 'Philippines', 'Qatar', 'Senegal', 'Seychelles', 'Sierra Leone', 'Singapore', 'Solomon Islands', 'Switzerland', 'Tajikistan', 'Tanzania, United Republic of', 'Thailand', 'Timor-Leste', 'Togo', 'Tonga', 'Trinidad and Tobago', 'Uganda', 'United Kingdom', 'United States', 'Vanuatu', 'Viet Nam', 'Zambia']\n",
      "Cluster_2 includes: ['Afghanistan', 'Azerbaijan', 'Bangladesh', 'Belgium', 'Bermuda', 'Bhutan', 'Bulgaria', 'Burkina Faso', 'Canada', 'Chile', 'Comoros', 'Dominican Republic', 'Estonia', 'Fiji', 'Finland', 'France', 'Honduras', 'Hungary', 'India', 'Ireland', 'Kiribati', 'Kuwait', 'Latvia', 'Lithuania', 'Luxembourg', 'Marshall Islands', 'Mongolia', 'Montserrat', 'Nepal', 'Nigeria', 'Oman', 'Panama', 'Paraguay', 'Poland', 'Puerto Rico', 'Romania', 'Russian Federation', 'Rwanda', 'Slovakia', 'Slovenia', 'Sri Lanka', 'Sweden', 'Ukraine', 'United Arab Emirates', 'Uzbekistan', 'Venezuela, Bolivarian Republic of', 'Wallis and Futuna Islands', 'Zimbabwe']\n",
      "Cluster_3 includes: ['Albania', 'Angola', 'Argentina', 'Armenia', 'Bahamas', 'Barbados', 'Belize', 'Brazil', 'Brunei Darussalam', 'Colombia', 'Costa Rica', 'Croatia', 'Cyprus', 'Georgia', 'Grenada', 'Guyana', 'Italy', 'Jamaica', 'Lebanon', 'Martinique', 'Mauritania', 'Mauritius', 'Micronesia, Federated States of', 'Monaco', 'Montenegro', 'Morocco', 'Nauru', 'New Caledonia', 'Portugal', 'Samoa', 'San Marino', 'Serbia', 'Suriname', 'Türkiye', 'Uruguay']\n"
     ]
    }
   ],
   "source": [
    "print(f\"Cluster_0 includes: {cluster_groups[0]}\")\n",
    "print(f\"Cluster_1 includes: {cluster_groups[1]}\")\n",
    "print(f\"Cluster_2 includes: {cluster_groups[2]}\")\n",
    "print(f\"Cluster_3 includes: {cluster_groups[3]}\")\n"
   ]
  },
  {
   "cell_type": "code",
   "execution_count": 25,
   "id": "f759a3a9",
   "metadata": {},
   "outputs": [
    {
     "data": {
      "text/html": [
       "<div>\n",
       "<style scoped>\n",
       "    .dataframe tbody tr th:only-of-type {\n",
       "        vertical-align: middle;\n",
       "    }\n",
       "\n",
       "    .dataframe tbody tr th {\n",
       "        vertical-align: top;\n",
       "    }\n",
       "\n",
       "    .dataframe thead th {\n",
       "        text-align: right;\n",
       "    }\n",
       "</style>\n",
       "<table border=\"1\" class=\"dataframe\">\n",
       "  <thead>\n",
       "    <tr style=\"text-align: right;\">\n",
       "      <th></th>\n",
       "      <th>country</th>\n",
       "      <th>gender</th>\n",
       "      <th>age_group</th>\n",
       "      <th>year</th>\n",
       "      <th>unemployment_rate</th>\n",
       "    </tr>\n",
       "  </thead>\n",
       "  <tbody>\n",
       "    <tr>\n",
       "      <th>6</th>\n",
       "      <td>Afghanistan</td>\n",
       "      <td>Female</td>\n",
       "      <td>15+</td>\n",
       "      <td>2021</td>\n",
       "      <td>5.50</td>\n",
       "    </tr>\n",
       "    <tr>\n",
       "      <th>7</th>\n",
       "      <td>Afghanistan</td>\n",
       "      <td>Female</td>\n",
       "      <td>15-24</td>\n",
       "      <td>2021</td>\n",
       "      <td>9.41</td>\n",
       "    </tr>\n",
       "    <tr>\n",
       "      <th>8</th>\n",
       "      <td>Afghanistan</td>\n",
       "      <td>Female</td>\n",
       "      <td>25+</td>\n",
       "      <td>2021</td>\n",
       "      <td>3.77</td>\n",
       "    </tr>\n",
       "    <tr>\n",
       "      <th>15</th>\n",
       "      <td>Afghanistan</td>\n",
       "      <td>Female</td>\n",
       "      <td>15+</td>\n",
       "      <td>2020</td>\n",
       "      <td>16.77</td>\n",
       "    </tr>\n",
       "    <tr>\n",
       "      <th>16</th>\n",
       "      <td>Afghanistan</td>\n",
       "      <td>Female</td>\n",
       "      <td>15-24</td>\n",
       "      <td>2020</td>\n",
       "      <td>21.11</td>\n",
       "    </tr>\n",
       "  </tbody>\n",
       "</table>\n",
       "</div>"
      ],
      "text/plain": [
       "        country  gender age_group  year  unemployment_rate\n",
       "6   Afghanistan  Female       15+  2021               5.50\n",
       "7   Afghanistan  Female     15-24  2021               9.41\n",
       "8   Afghanistan  Female       25+  2021               3.77\n",
       "15  Afghanistan  Female       15+  2020              16.77\n",
       "16  Afghanistan  Female     15-24  2020              21.11"
      ]
     },
     "execution_count": 25,
     "metadata": {},
     "output_type": "execute_result"
    }
   ],
   "source": [
    "female_unemployment_df.head()"
   ]
  },
  {
   "cell_type": "markdown",
   "id": "efeea184",
   "metadata": {},
   "source": [
    "# Classification of Unemployment Levels Using Random Forest"
   ]
  },
  {
   "cell_type": "code",
   "execution_count": 23,
   "id": "d90b1507",
   "metadata": {},
   "outputs": [
    {
     "name": "stderr",
     "output_type": "stream",
     "text": [
      "d:\\1\\envs\\PythonData\\lib\\site-packages\\ipykernel_launcher.py:10: SettingWithCopyWarning:\n",
      "\n",
      "\n",
      "A value is trying to be set on a copy of a slice from a DataFrame.\n",
      "Try using .loc[row_indexer,col_indexer] = value instead\n",
      "\n",
      "See the caveats in the documentation: https://pandas.pydata.org/pandas-docs/stable/user_guide/indexing.html#returning-a-view-versus-a-copy\n",
      "\n",
      "d:\\1\\envs\\PythonData\\lib\\site-packages\\ipykernel_launcher.py:14: SettingWithCopyWarning:\n",
      "\n",
      "\n",
      "A value is trying to be set on a copy of a slice from a DataFrame.\n",
      "Try using .loc[row_indexer,col_indexer] = value instead\n",
      "\n",
      "See the caveats in the documentation: https://pandas.pydata.org/pandas-docs/stable/user_guide/indexing.html#returning-a-view-versus-a-copy\n",
      "\n",
      "d:\\1\\envs\\PythonData\\lib\\site-packages\\ipykernel_launcher.py:15: SettingWithCopyWarning:\n",
      "\n",
      "\n",
      "A value is trying to be set on a copy of a slice from a DataFrame.\n",
      "Try using .loc[row_indexer,col_indexer] = value instead\n",
      "\n",
      "See the caveats in the documentation: https://pandas.pydata.org/pandas-docs/stable/user_guide/indexing.html#returning-a-view-versus-a-copy\n",
      "\n"
     ]
    },
    {
     "name": "stdout",
     "output_type": "stream",
     "text": [
      "Accuracy: 0.6717095310136157\n"
     ]
    }
   ],
   "source": [
    "import pandas as pd\n",
    "from sklearn.model_selection import train_test_split\n",
    "from sklearn.ensemble import RandomForestClassifier\n",
    "from sklearn.metrics import accuracy_score\n",
    "from sklearn.preprocessing import LabelEncoder\n",
    "\n",
    "# Transform the unemployment_rate into categories\n",
    "bins = [0, 15, 30, 100]  # Example bins - you may need to adjust these\n",
    "labels = ['Low', 'Medium', 'High']\n",
    "female_unemployment_df['unemployment_level'] = pd.cut(female_unemployment_df['unemployment_rate'], bins=bins, labels=labels)\n",
    "\n",
    "# Encode categorical variables\n",
    "label_encoder = LabelEncoder()\n",
    "female_unemployment_df['country'] = label_encoder.fit_transform(female_unemployment_df['country'])\n",
    "female_unemployment_df['age_group'] = label_encoder.fit_transform(female_unemployment_df['age_group'])\n",
    "\n",
    "# Split the data into features and target\n",
    "X = female_unemployment_df[['country', 'age_group', 'year']]  # features\n",
    "y = female_unemployment_df['unemployment_level']  # target\n",
    "\n",
    "# Split the dataset into training and testing sets\n",
    "X_train, X_test, y_train, y_test = train_test_split(X, y, test_size=0.2, random_state=42)\n",
    "\n",
    "# Initialize the Random Forest Classifier\n",
    "rf_classifier = RandomForestClassifier(n_estimators=100, random_state=42)\n",
    "\n",
    "# Train the model\n",
    "rf_classifier.fit(X_train, y_train)\n",
    "\n",
    "# Predict on the test set\n",
    "y_pred = rf_classifier.predict(X_test)\n",
    "\n",
    "# Evaluate the model\n",
    "accuracy = accuracy_score(y_test, y_pred)\n",
    "print(f'Accuracy: {accuracy}')\n"
   ]
  },
  {
   "cell_type": "markdown",
   "id": "93c54d28",
   "metadata": {},
   "source": [
    "# Model Optimisation"
   ]
  },
  {
   "cell_type": "code",
   "execution_count": 25,
   "id": "7613d29f",
   "metadata": {},
   "outputs": [
    {
     "name": "stderr",
     "output_type": "stream",
     "text": [
      "d:\\1\\envs\\PythonData\\lib\\site-packages\\pandas\\core\\indexing.py:1773: SettingWithCopyWarning:\n",
      "\n",
      "\n",
      "A value is trying to be set on a copy of a slice from a DataFrame.\n",
      "Try using .loc[row_indexer,col_indexer] = value instead\n",
      "\n",
      "See the caveats in the documentation: https://pandas.pydata.org/pandas-docs/stable/user_guide/indexing.html#returning-a-view-versus-a-copy\n",
      "\n"
     ]
    },
    {
     "name": "stdout",
     "output_type": "stream",
     "text": [
      "Fitting 5 folds for each of 27 candidates, totalling 135 fits\n",
      "Classification Report:\n",
      "               precision    recall  f1-score   support\n",
      "\n",
      "        High       0.86      0.95      0.91       484\n",
      "         Low       0.91      0.73      0.81       491\n",
      "      Medium       0.79      0.87      0.83       467\n",
      "\n",
      "    accuracy                           0.85      1442\n",
      "   macro avg       0.85      0.85      0.85      1442\n",
      "weighted avg       0.85      0.85      0.85      1442\n",
      "\n",
      "Confusion Matrix:\n",
      " [[461   5  18]\n",
      " [ 43 358  90]\n",
      " [ 30  32 405]]\n",
      "Cross-Validation Scores: [0.66504854 0.7369882  0.759195   0.68424705 0.75294934]\n",
      "Mean CV Score: 0.719685628238211\n"
     ]
    }
   ],
   "source": [
    "import pandas as pd\n",
    "from sklearn.model_selection import train_test_split, GridSearchCV, cross_val_score\n",
    "from sklearn.ensemble import RandomForestClassifier\n",
    "from sklearn.metrics import classification_report, confusion_matrix\n",
    "from sklearn.preprocessing import LabelEncoder\n",
    "from imblearn.over_sampling import SMOTE  # Handle imbalanced data\n",
    "\n",
    "# Transform the unemployment_rate into categories\n",
    "bins = [0, 15, 30, 100]\n",
    "labels = ['Low', 'Medium', 'High']\n",
    "female_unemployment_df.loc[:,'unemployment_level'] = pd.cut(female_unemployment_df.loc[:, 'unemployment_rate'], bins=bins, labels=labels)\n",
    "\n",
    "# Encode categorical variables\n",
    "label_encoder = LabelEncoder()\n",
    "female_unemployment_df.loc[:,'country'] = label_encoder.fit_transform(female_unemployment_df['country'])\n",
    "female_unemployment_df.loc[:,'age_group'] = label_encoder.fit_transform(female_unemployment_df['age_group'])\n",
    "\n",
    "# Split the data into features and target\n",
    "X = female_unemployment_df.loc[:,['country', 'age_group', 'year']]\n",
    "y = female_unemployment_df.loc[:, 'unemployment_level']\n",
    "\n",
    "# Handle imbalanced data\n",
    "smote = SMOTE()\n",
    "X, y = smote.fit_resample(X, y)\n",
    "\n",
    "# Split the dataset into training and testing sets\n",
    "X_train, X_test, y_train, y_test = train_test_split(X, y, test_size=0.2, random_state=42)\n",
    "\n",
    "# Initialize the Random Forest Classifier\n",
    "rf_classifier = RandomForestClassifier(random_state=42)\n",
    "\n",
    "# Hyperparameter Tuning\n",
    "param_grid = {\n",
    "    'n_estimators': [100, 200, 300],\n",
    "    'max_depth': [10, 20, 30],\n",
    "    'min_samples_split': [2, 5, 10]\n",
    "}\n",
    "grid_search = GridSearchCV(estimator=rf_classifier, param_grid=param_grid, cv=5, n_jobs=-1, verbose=2)\n",
    "\n",
    "grid_search.fit(X_train, y_train)\n",
    "\n",
    "# Best estimator\n",
    "best_rf = grid_search.best_estimator_\n",
    "\n",
    "# Predict on the test set with the best estimator\n",
    "y_pred = best_rf.predict(X_test)\n",
    "\n",
    "# Evaluate the model\n",
    "print(\"Classification Report:\\n\", classification_report(y_test, y_pred))\n",
    "print(\"Confusion Matrix:\\n\", confusion_matrix(y_test, y_pred))\n",
    "\n",
    "# Cross-Validation\n",
    "cross_val_scores = cross_val_score(best_rf, X, y, cv=5)\n",
    "print(\"Cross-Validation Scores:\", cross_val_scores)\n",
    "print(\"Mean CV Score:\", cross_val_scores.mean())\n"
   ]
  }
 ],
 "metadata": {
  "kernelspec": {
   "display_name": "Python 3 (ipykernel)",
   "language": "python",
   "name": "python3"
  },
  "language_info": {
   "codemirror_mode": {
    "name": "ipython",
    "version": 3
   },
   "file_extension": ".py",
   "mimetype": "text/x-python",
   "name": "python",
   "nbconvert_exporter": "python",
   "pygments_lexer": "ipython3",
   "version": "3.7.13"
  }
 },
 "nbformat": 4,
 "nbformat_minor": 5
}
